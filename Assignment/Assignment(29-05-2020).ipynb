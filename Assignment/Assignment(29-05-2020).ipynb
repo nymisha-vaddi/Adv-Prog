{
 "cells": [
  {
   "cell_type": "markdown",
   "metadata": {},
   "source": [
    "## CSE - 221710307060 - Nymisha"
   ]
  },
  {
   "cell_type": "code",
   "execution_count": 68,
   "metadata": {},
   "outputs": [
    {
     "name": "stdout",
     "output_type": "stream",
     "text": [
      "Enter a number : 6\n",
      "720\n"
     ]
    }
   ],
   "source": [
    "#Question 1: Create a function to find Factorial of a number using Recursion\n",
    "def fact(n):\n",
    "    if n == 0 or n == 1:\n",
    "        return 1\n",
    "    else:\n",
    "        return n*fact(n-1)\n",
    "num = int(input(\"Enter a number : \"))\n",
    "print(fact(num))"
   ]
  },
  {
   "cell_type": "code",
   "execution_count": 74,
   "metadata": {},
   "outputs": [
    {
     "name": "stdout",
     "output_type": "stream",
     "text": [
      "enter n : 10\n",
      "0 1 1 2 3 5 8 13 21 34 "
     ]
    }
   ],
   "source": [
    "#Question 2: Create a function and display ‘n’ Fibonacci numbers using Recursion\n",
    "def fib(n):\n",
    "    if n <= 1:\n",
    "        return n\n",
    "    else:\n",
    "        return fib(n-1)+fib(n-2)\n",
    "num = int(input(\"enter n : \"))\n",
    "for i in range(num):\n",
    "    print(fib(i),end = \" \")\n",
    "    "
   ]
  },
  {
   "cell_type": "code",
   "execution_count": 72,
   "metadata": {},
   "outputs": [
    {
     "name": "stdout",
     "output_type": "stream",
     "text": [
      "Enter no.of items of list4\n",
      "1\n",
      "2\n",
      "3\n",
      "4\n",
      "10\n"
     ]
    }
   ],
   "source": [
    "#Question 3: Print sum of list of elements without using sum() function\n",
    "def sum(list1):\n",
    "    sum = 0 \n",
    "    for i in list1:\n",
    "        sum = sum + i\n",
    "    return sum\n",
    "list1=[]\n",
    "n = int(input(\"Enter no.of items of list\"))\n",
    "for j in range(0,n):\n",
    "    l = int(input())\n",
    "    list1.append(l)\n",
    "print(sum(list1))"
   ]
  },
  {
   "cell_type": "code",
   "execution_count": 76,
   "metadata": {},
   "outputs": [
    {
     "name": "stdout",
     "output_type": "stream",
     "text": [
      "Enter no.of items of list 4\n",
      "1\n",
      "2\n",
      "3\n",
      "4\n",
      "even numbers are : \n",
      "2 4 "
     ]
    }
   ],
   "source": [
    "#Question 4: print only even numbers from the list\n",
    "list1 = []\n",
    "n = int(input(\"Enter no.of items of list \"))\n",
    "for i in range(0,n):\n",
    "    l=int(input())\n",
    "    list1.append(l)\n",
    "print(\"even numbers are : \")\n",
    "for i in list1:\n",
    "    if i%2 == 0:\n",
    "        print(i,end=\" \")"
   ]
  },
  {
   "cell_type": "code",
   "execution_count": 85,
   "metadata": {},
   "outputs": [
    {
     "name": "stdout",
     "output_type": "stream",
     "text": [
      "Enter no.of items of list 4\n",
      "2\n",
      "1\n",
      "4\n",
      "3\n",
      "smallest number :  1\n",
      "Index :  1\n"
     ]
    }
   ],
   "source": [
    "#Question 5: Write a Python program to get the smallest number from a list and display index of smallest element of the list\n",
    "list1 = []\n",
    "n = int(input(\"Enter no.of items of list \"))\n",
    "for i in range(0,n):\n",
    "    l=int(input())\n",
    "    list1.append(l)\n",
    "print(\"smallest number : \",min(list1))\n",
    "minimum = list1[0]\n",
    "for j in list1:\n",
    "    if j<minimum:\n",
    "        minimum = j\n",
    "print(\"Index : \",list1.index(minimum))"
   ]
  },
  {
   "cell_type": "code",
   "execution_count": 45,
   "metadata": {},
   "outputs": [
    {
     "name": "stdout",
     "output_type": "stream",
     "text": [
      "Enter a stirng : madam\n",
      "It is palindrome\n"
     ]
    }
   ],
   "source": [
    "#Question 6: Write a Python function that checks whether a passed string is palindrome or not.\n",
    "def palindrome(s):\n",
    "    rev = s[::-1]\n",
    "    if rev == s:\n",
    "        print(\"It is palindrome\")\n",
    "    else:\n",
    "        print(\"It is not a palindrome\")\n",
    "str1 = input(\"Enter a stirng : \")\n",
    "palindrome(str1)"
   ]
  },
  {
   "cell_type": "code",
   "execution_count": 78,
   "metadata": {},
   "outputs": [
    {
     "name": "stdout",
     "output_type": "stream",
     "text": [
      "Enter no.of items of list 4\n",
      "1\n",
      "2\n",
      "3\n",
      "4\n",
      "Number of even numbers :  2\n",
      "Number of odd numbers :  2\n"
     ]
    }
   ],
   "source": [
    "#Question 7: Write a Python program to count the number of even and odd numbers from a series of numbers. \n",
    "                #Sample numbers : numbers = [1, 2, 3, 4, 5, 6, 7, 8, 9]\n",
    "                #Expected Output :\n",
    "                #Number of even numbers : 4\n",
    "                #Number of odd numbers : 5\n",
    "\n",
    "list1 = []\n",
    "ec = 0\n",
    "oc = 0\n",
    "n = int(input(\"Enter no.of items of list \"))\n",
    "for i in range(0,n):\n",
    "    l=int(input())\n",
    "    list1.append(l)\n",
    "for i in list1:\n",
    "    if i%2 == 0:\n",
    "        ec+=1\n",
    "    else:\n",
    "        oc+=1\n",
    "print(\"Number of even numbers : \",ec)\n",
    "print(\"Number of odd numbers : \",oc)"
   ]
  },
  {
   "cell_type": "code",
   "execution_count": 50,
   "metadata": {},
   "outputs": [
    {
     "name": "stdout",
     "output_type": "stream",
     "text": [
      "0 1 2 4 5 "
     ]
    }
   ],
   "source": [
    "#Question 8: Write a Python program that prints all the numbers from 0 to 6 except 3 and 6.\n",
    "                #Note : Use 'continue' statement.\n",
    "                #Expected Output : 0 1 2 4 5\n",
    "for i in range(0,7):\n",
    "    if i == 3 or i == 6:\n",
    "        continue\n",
    "    else:\n",
    "        print(i,end=\" \")"
   ]
  },
  {
   "cell_type": "code",
   "execution_count": 52,
   "metadata": {},
   "outputs": [
    {
     "name": "stdout",
     "output_type": "stream",
     "text": [
      "Enter a number : 101\n",
      "Prime Number\n"
     ]
    }
   ],
   "source": [
    "#Question 9: Write a python function to check whether the given number is prime or not\n",
    "def prime(n):\n",
    "    count = 0\n",
    "    if n>1:\n",
    "        for i in range(1,n+1):\n",
    "            if n%i == 0:\n",
    "                count+=1\n",
    "        if count<=2:\n",
    "            print(\"Prime Number\")\n",
    "        else:\n",
    "            print(\"Not Prime Number\")\n",
    "    else:\n",
    "        print(\"Neither prime nor composite\")\n",
    "num = int(input(\"Enter a number : \"))\n",
    "prime(num)"
   ]
  },
  {
   "cell_type": "code",
   "execution_count": 64,
   "metadata": {},
   "outputs": [
    {
     "name": "stdout",
     "output_type": "stream",
     "text": [
      "Enter a number : 12\n",
      "It is Adam Number\n"
     ]
    }
   ],
   "source": [
    "#Question 10: Write a python function to check whether the given number is Adam number or not\n",
    "                #Example: \n",
    "                #Input : 12\n",
    "                #Output : Adam Number\n",
    "                #Explanation: 12*12 = 144\n",
    "                #Reverse of 12 is 21 → 21*21 =441\n",
    "                #Reverse of 144 == 441\n",
    "def adam(n):\n",
    "    if int(str(n**2)[::-1]) == int(str(n)[::-1])**2:\n",
    "        return True \n",
    "    else:\n",
    "        return False\n",
    "num = int(input(\"Enter a number : \"))\n",
    "if adam(num):\n",
    "    print(\"It is Adam Number\")\n",
    "else:\n",
    "    print(\"It is not Adam Number\")"
   ]
  },
  {
   "cell_type": "code",
   "execution_count": null,
   "metadata": {},
   "outputs": [],
   "source": []
  }
 ],
 "metadata": {
  "kernelspec": {
   "display_name": "Python 3",
   "language": "python",
   "name": "python3"
  },
  "language_info": {
   "codemirror_mode": {
    "name": "ipython",
    "version": 3
   },
   "file_extension": ".py",
   "mimetype": "text/x-python",
   "name": "python",
   "nbconvert_exporter": "python",
   "pygments_lexer": "ipython3",
   "version": "3.7.6"
  }
 },
 "nbformat": 4,
 "nbformat_minor": 4
}
