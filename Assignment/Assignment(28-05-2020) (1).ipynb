{
 "cells": [
  {
   "cell_type": "markdown",
   "metadata": {},
   "source": [
    "## CSE - 221710307060 - Nymisha"
   ]
  },
  {
   "cell_type": "code",
   "execution_count": 31,
   "metadata": {},
   "outputs": [
    {
     "name": "stdout",
     "output_type": "stream",
     "text": [
      "enter a stringPython@\n",
      "number of vowels =  1\n",
      "number of consonants =  5\n",
      "number of special characters =  1\n"
     ]
    }
   ],
   "source": [
    "#Question 1: Accept a string from the user and count no.of vowels,consonants and special characters\n",
    "\n",
    "s=input(\"enter a string\")\n",
    "v=0\n",
    "c=0\n",
    "sc=0\n",
    "s=s.lower()\n",
    "for i in range(0,len(s)):\n",
    "  if(s[i]=='a' or s[i]=='e' or s[i]=='i' or s[i]=='o' or s[i]=='u'):\n",
    "    v=v+1\n",
    "  elif (s[i]>='a' and s[i]<='z'):\n",
    "    c=c+1\n",
    "  else:\n",
    "    sc=sc+1\n",
    "print(\"number of vowels = \",v)\n",
    "print(\"number of consonants = \",c)\n",
    "print(\"number of special characters = \",sc)"
   ]
  },
  {
   "cell_type": "code",
   "execution_count": 30,
   "metadata": {},
   "outputs": [
    {
     "name": "stdout",
     "output_type": "stream",
     "text": [
      "enter a stringabbaaccbbaaa\n",
      "2\n"
     ]
    }
   ],
   "source": [
    "#Question 2: count the no.of pairs of a in the given string(Infosys InfyTQ)\n",
    "                #string →  \"abbaaccbbaaa\"\n",
    "                #output →  2\n",
    "s=input(\"enter a string\")\n",
    "print(s.count('aa'))"
   ]
  },
  {
   "cell_type": "code",
   "execution_count": 12,
   "metadata": {},
   "outputs": [
    {
     "name": "stdout",
     "output_type": "stream",
     "text": [
      "enter a string((((()()()))))()\n",
      "8\n"
     ]
    }
   ],
   "source": [
    "#Question 3: Test case1:\n",
    "                #string →  \"((((()()()))))()\"\n",
    "                #output →  8\n",
    "            #Test case2:\n",
    "                #string →  \"((()))()\"\n",
    "                #Output →  4\n",
    "\n",
    "s=input(\"enter a string\")\n",
    "count=0\n",
    "flag=0\n",
    "for i in range(0,len(s)):\n",
    "    if s[i]=='(':\n",
    "        count+=1\n",
    "    elif s[i]==')':\n",
    "        flag+=1\n",
    "if count==flag:\n",
    "    print(count)\n",
    "else:\n",
    "    print(count(count-flag))"
   ]
  },
  {
   "cell_type": "code",
   "execution_count": 33,
   "metadata": {},
   "outputs": [
    {
     "name": "stdout",
     "output_type": "stream",
     "text": [
      "enter the start limit1\n",
      "enter the end limit100\n",
      "18\n"
     ]
    }
   ],
   "source": [
    "#Question 4: Read the input as two limits and Print the output as Palindrome count between the two limits\n",
    "                #Example #1; Input : 1 10 Output : 9\n",
    "                #Example #2: Input : 1 100 Output : 18\n",
    "\n",
    "n=int(input(\"enter the start limit\"))\n",
    "m=int(input(\"enter the end limit\"))\n",
    "count=0\n",
    "for i in range(n,m):\n",
    "  rev=0\n",
    "  temp=i\n",
    "  while(i>0):\n",
    "    num=i%10\n",
    "    rev=rev*10+num\n",
    "    i=i//10\n",
    "  if(temp==rev):\n",
    "    count=count+1\n",
    "print(count)"
   ]
  },
  {
   "cell_type": "code",
   "execution_count": 22,
   "metadata": {},
   "outputs": [
    {
     "name": "stdout",
     "output_type": "stream",
     "text": [
      "Enter a number127\n",
      "848\n"
     ]
    }
   ],
   "source": [
    "#Question 5: Accept a number as an input and check whether the given number is palindrome or not\n",
    "                #if it is a palindrome number print the number on the screen\n",
    "                #if it is not a palindrome number reverse that number and add it to previous number repeat this until will get a palindrome number and print that palindrome number on the screen\n",
    "                #input: 127\n",
    "                #output: 848\n",
    "\n",
    "def function(rev,temp):\n",
    "    n=rev+temp\n",
    "    palindrome(n)\n",
    "\n",
    "def palindrome(n):\n",
    "    temp=n\n",
    "    rev=0\n",
    "    while(n>0):\n",
    "        num=n%10\n",
    "        rev=rev*10+num\n",
    "        n=n//10\n",
    "    if temp==rev:\n",
    "        print(rev)\n",
    "    else:\n",
    "        function(rev,temp)\n",
    "n=int(input(\"Enter a number\"))\n",
    "palindrome(n)"
   ]
  },
  {
   "cell_type": "code",
   "execution_count": 4,
   "metadata": {},
   "outputs": [
    {
     "name": "stdout",
     "output_type": "stream",
     "text": [
      "enter string: orange\n",
      "puboif"
     ]
    }
   ],
   "source": [
    "#Question 6: input:orange  →   output : puboif\n",
    "s = input(\"enter string: \")\n",
    "for i in s:\n",
    "    if(i==\"a\" or i==\"e\" or i==\"i\" or i==\"o\" or i==\"u\"):\n",
    "        z=ord(i)\n",
    "        print(chr(z+1),end=\"\")\n",
    "    elif(ord(i)>97 and ord(i)<=100):\n",
    "        print(\"e\",end=\"\")\n",
    "    elif(ord(i)>101 and ord(i)<=104):\n",
    "        print(\"i\",end=\"\")\n",
    "    elif(ord(i)>105 and ord(i)<=110):\n",
    "        print(\"o\",end=\"\")\n",
    "    elif(ord(i)>110 and ord(i)<=116):\n",
    "        print(\"u\",end=\"\")\n",
    "    else:\n",
    "        print(\"a\",end=\"\")"
   ]
  },
  {
   "cell_type": "code",
   "execution_count": 4,
   "metadata": {},
   "outputs": [
    {
     "name": "stdout",
     "output_type": "stream",
     "text": [
      "enter a string: Appli123cation456\n",
      "21\n"
     ]
    }
   ],
   "source": [
    "#Question 7: Accept input as a string and display sum of digits as the output \n",
    "                #input:Appli123cation456 \n",
    "                #Output: 21\n",
    "s = input(\"enter a string: \")\n",
    "sum = 0\n",
    "for i in range(0,len(s)):\n",
    "    if (s[i]>='1' and s[i]<='9') :\n",
    "        sum += int(s[i])\n",
    "print(sum)"
   ]
  },
  {
   "cell_type": "code",
   "execution_count": 27,
   "metadata": {},
   "outputs": [
    {
     "name": "stdout",
     "output_type": "stream",
     "text": [
      "enter score: 0.9\n",
      "A\n"
     ]
    }
   ],
   "source": [
    "#Question 8: Write a program to prompt for a score between 0.0 and 1.0. If the score is out of range, print an error. If the score is between 0.0 and 1.0, print a grade using the following table:\n",
    "                #Score Grade\n",
    "                #>= 0.9 A\n",
    "                #>= 0.8 B\n",
    "                #>= 0.7 C\n",
    "                #>= 0.6 D\n",
    "                #< 0.6 F\n",
    "#If the user enters a value out of range, print a suitable error message and exit. For the test, enter a score of 0.85\n",
    "            \n",
    "s = float(input(\"enter score: \"))\n",
    "if(s >= 0.9 ) :\n",
    "    print(\"A\")\n",
    "elif(s >= 0.8):\n",
    "    print(\"B\")\n",
    "elif(s >= 0.7):\n",
    "    print(\"C\")\n",
    "elif(s >= 0.6):\n",
    "    print(\"D\")\n",
    "elif(s < 0.6):\n",
    "    print(\"F\")\n",
    "else :\n",
    "    print(\"invalid\")"
   ]
  },
  {
   "cell_type": "code",
   "execution_count": 1,
   "metadata": {},
   "outputs": [
    {
     "name": "stdout",
     "output_type": "stream",
     "text": [
      "1\n",
      "2\n",
      "fizz\n",
      "4\n",
      "buzz\n",
      "fizz\n",
      "7\n",
      "8\n",
      "fizz\n",
      "buzz\n",
      "11\n",
      "fizz\n",
      "13\n",
      "14\n",
      "fizzbuzz\n",
      "16\n",
      "17\n",
      "fizz\n",
      "19\n",
      "buzz\n",
      "fizz\n",
      "22\n",
      "23\n",
      "fizz\n",
      "buzz\n",
      "26\n",
      "fizz\n",
      "28\n",
      "29\n",
      "fizzbuzz\n",
      "31\n",
      "32\n",
      "fizz\n",
      "34\n",
      "buzz\n",
      "fizz\n",
      "37\n",
      "38\n",
      "fizz\n",
      "buzz\n",
      "41\n",
      "fizz\n",
      "43\n",
      "44\n",
      "fizzbuzz\n",
      "46\n",
      "47\n",
      "fizz\n",
      "49\n",
      "buzz\n"
     ]
    }
   ],
   "source": [
    "#Question 9: Write a Python program which iterates the integers from 1 to 50. For multiples of three print \"Fizz\" instead of the number and for the multiples of five print \"Buzz\". For numbers which are multiples of both three and five print \"FizzBuzz\".\n",
    "                #Sample Output :\n",
    "                #fizzbuzz\n",
    "                #1\n",
    "                #2\n",
    "                #fizz\n",
    "                #4\n",
    "                #buzz\n",
    "\n",
    "for i in range (1,51):\n",
    "  if(i%3==0 and i%5==0):\n",
    "    print(\"fizzbuzz\")\n",
    "  elif(i%3==0):\n",
    "    print(\"fizz\")\n",
    "  elif(i%5==0):\n",
    "    print(\"buzz\")\n",
    "  else:\n",
    "    print(i)"
   ]
  },
  {
   "cell_type": "code",
   "execution_count": 35,
   "metadata": {},
   "outputs": [
    {
     "name": "stdout",
     "output_type": "stream",
     "text": [
      "Input first number: 26\n",
      "Input second number: 15\n",
      "Input third number: 29\n",
      "The median is  26\n"
     ]
    }
   ],
   "source": [
    "#Question 10: Write a Python program to find the median of three values.\n",
    "                #Expected Output:\n",
    "                #Input first number: 26                                            \n",
    "                #Input second number: 15                                                \n",
    "                #Input third number: 29                                                  \n",
    "                #The median is 26\n",
    "\n",
    "a=int(input(\"Input first number: \"))\n",
    "b=int(input(\"Input second number: \"))\n",
    "c=int(input(\"Input third number: \"))\n",
    "if a>b and a<c:\n",
    "  print(\"The median is \",a)\n",
    "elif b>a and b<c:\n",
    "  print(\"The median is \",b)\n",
    "else:\n",
    "  print(\"The median is \",c)"
   ]
  },
  {
   "cell_type": "code",
   "execution_count": null,
   "metadata": {},
   "outputs": [],
   "source": []
  }
 ],
 "metadata": {
  "kernelspec": {
   "display_name": "Python 3",
   "language": "python",
   "name": "python3"
  },
  "language_info": {
   "codemirror_mode": {
    "name": "ipython",
    "version": 3
   },
   "file_extension": ".py",
   "mimetype": "text/x-python",
   "name": "python",
   "nbconvert_exporter": "python",
   "pygments_lexer": "ipython3",
   "version": "3.7.6"
  }
 },
 "nbformat": 4,
 "nbformat_minor": 4
}
