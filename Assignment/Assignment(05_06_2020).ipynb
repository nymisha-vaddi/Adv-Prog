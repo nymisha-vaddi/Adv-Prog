{
  "nbformat": 4,
  "nbformat_minor": 0,
  "metadata": {
    "colab": {
      "name": "Assignment(05-06-2020).ipynb",
      "provenance": [],
      "collapsed_sections": []
    },
    "kernelspec": {
      "name": "python3",
      "display_name": "Python 3"
    }
  },
  "cells": [
    {
      "cell_type": "markdown",
      "metadata": {
        "id": "0_hTH3MwE2xP",
        "colab_type": "text"
      },
      "source": [
        "### CSE - 221710307060 - Nymisha"
      ]
    },
    {
      "cell_type": "markdown",
      "metadata": {
        "id": "ptXJKLlEE_65",
        "colab_type": "text"
      },
      "source": [
        "####Question 1:\n",
        "[Data Series] \n",
        "Write a Python program to add, subtract, multiple and divide two Pandas Series. \n",
        "Sample Series: \n",
        "[2, 4, 6, 8, 10], [1, 3, 5, 7, 9]\n",
        "Sample Output:\n",
        "[2, 4, 6, 8, 10] + [1, 3, 5, 7, 9] = [3, 7, 11, 15, 19]\n",
        "\t\t * * *\n"
      ]
    },
    {
      "cell_type": "code",
      "metadata": {
        "id": "Xew3vjmME-37",
        "colab_type": "code",
        "colab": {
          "base_uri": "https://localhost:8080/",
          "height": 493
        },
        "outputId": "f6344b97-35b5-4deb-9a79-be499fff8f3e"
      },
      "source": [
        "import pandas as pd\n",
        "s1 = pd.Series([2, 4, 6, 8, 10])\n",
        "s2 = pd.Series([1, 3, 5, 7, 9])\n",
        "s = s1 + s2\n",
        "print(\"Add two Series:\")\n",
        "print(s)\n",
        "print(\"Subtract two Series:\")\n",
        "s = s1 - s2\n",
        "print(s)\n",
        "print(\"Multiply two Series:\")\n",
        "s = s1 * s2\n",
        "print(s)\n",
        "print(\"Divide Series1 by Series2:\")\n",
        "s = s1 / s2\n",
        "print(s)"
      ],
      "execution_count": 1,
      "outputs": [
        {
          "output_type": "stream",
          "text": [
            "Add two Series:\n",
            "0     3\n",
            "1     7\n",
            "2    11\n",
            "3    15\n",
            "4    19\n",
            "dtype: int64\n",
            "Subtract two Series:\n",
            "0    1\n",
            "1    1\n",
            "2    1\n",
            "3    1\n",
            "4    1\n",
            "dtype: int64\n",
            "Multiply two Series:\n",
            "0     2\n",
            "1    12\n",
            "2    30\n",
            "3    56\n",
            "4    90\n",
            "dtype: int64\n",
            "Divide Series1 by Series2:\n",
            "0    2.000000\n",
            "1    1.333333\n",
            "2    1.200000\n",
            "3    1.142857\n",
            "4    1.111111\n",
            "dtype: float64\n"
          ],
          "name": "stdout"
        }
      ]
    },
    {
      "cell_type": "markdown",
      "metadata": {
        "id": "lxBeHKB1FFe1",
        "colab_type": "text"
      },
      "source": [
        "####Question 2:\n",
        "[Quartiles] \n",
        "Write a Pandas program to compute the minimum, 25th percentile, median, 75th, and maximum of a given series. \n",
        "Sample Output:\n",
        "Original Series:\n",
        "0 3.000938\n",
        "1 11.370722\n",
        "2 14.612143\n",
        "3 8.990256\n",
        "4 13.925283\n",
        "5 12.056875\n",
        ".... 17 14.118931\n",
        "18 8.247458\n",
        "19 5.526727\n",
        "dtype: float64\n",
        "Minimum, 25th percentile, median, 75th, and maximum of a given series:\n",
        "[ 3.00093811 8.09463867 10.23353705 12.21537733 14.61214321]\n"
      ]
    },
    {
      "cell_type": "code",
      "metadata": {
        "id": "XI7YUsRoFPx1",
        "colab_type": "code",
        "colab": {
          "base_uri": "https://localhost:8080/",
          "height": 442
        },
        "outputId": "7413f642-fe0d-4c68-f753-75fde88e230a"
      },
      "source": [
        "import pandas as pd\n",
        "import numpy as np\n",
        "num_state = np.random.RandomState(100)\n",
        "num_series = pd.Series(num_state.normal(10, 4, 20))\n",
        "print(\"Original Series:\")\n",
        "print(num_series)\n",
        "result = np.percentile(num_series, q=[0, 25, 50, 75, 100])\n",
        "print(\"\\nMinimum, 25th percentile, median, 75th, and maximum of a given series:\")\n",
        "print(result)"
      ],
      "execution_count": 4,
      "outputs": [
        {
          "output_type": "stream",
          "text": [
            "Original Series:\n",
            "0      3.000938\n",
            "1     11.370722\n",
            "2     14.612143\n",
            "3      8.990256\n",
            "4     13.925283\n",
            "5     12.056875\n",
            "6     10.884719\n",
            "7      5.719827\n",
            "8      9.242017\n",
            "9     11.020006\n",
            "10     8.167892\n",
            "11    11.740654\n",
            "12     7.665620\n",
            "13    13.267388\n",
            "14    12.690883\n",
            "15     9.582355\n",
            "16     7.874878\n",
            "17    14.118931\n",
            "18     8.247458\n",
            "19     5.526727\n",
            "dtype: float64\n",
            "\n",
            "Minimum, 25th percentile, median, 75th, and maximum of a given series:\n",
            "[ 3.00093811  8.09463867 10.23353705 12.21537733 14.61214321]\n"
          ],
          "name": "stdout"
        }
      ]
    },
    {
      "cell_type": "markdown",
      "metadata": {
        "id": "Y5cvFSr5FQwI",
        "colab_type": "text"
      },
      "source": [
        "####Question 3:\n",
        "[List Difference] \n",
        "Write a Pandas program to get the items of a given series not present in another given series. \n",
        "Sample Output:\n",
        "Original Series:\n",
        "sr1:\n",
        "0 1\n",
        "1 2\n",
        "2 3\n",
        "3 4\n",
        "4 5\n",
        "dtype: int64\n",
        "sr2:\n",
        "0 2\n",
        "1 4\n",
        "2 6\n",
        "3 8\n",
        "4 10\n",
        "dtype: int64\n",
        "Items of sr1 not present in sr2:\n",
        "0 1\n",
        "2 3\n",
        "4 5\n",
        "dtype: int64\n"
      ]
    },
    {
      "cell_type": "code",
      "metadata": {
        "id": "fmzY_VQDFaWq",
        "colab_type": "code",
        "colab": {
          "base_uri": "https://localhost:8080/",
          "height": 374
        },
        "outputId": "a61c7002-e5de-4d8d-aa5c-758aa4d43f4c"
      },
      "source": [
        "import pandas as pd\n",
        "sr1 = pd.Series([1, 2, 3, 4, 5])\n",
        "sr2 = pd.Series([2, 4, 6, 8, 10])\n",
        "print(\"Original Series:\")\n",
        "print(\"sr1:\")\n",
        "print(sr1)\n",
        "print(\"sr2:\")\n",
        "print(sr2)\n",
        "print(\"\\nItems of sr1 not present in sr2:\")\n",
        "result = sr1[~sr1.isin(sr2)]\n",
        "print(result)"
      ],
      "execution_count": 5,
      "outputs": [
        {
          "output_type": "stream",
          "text": [
            "Original Series:\n",
            "sr1:\n",
            "0    1\n",
            "1    2\n",
            "2    3\n",
            "3    4\n",
            "4    5\n",
            "dtype: int64\n",
            "sr2:\n",
            "0     2\n",
            "1     4\n",
            "2     6\n",
            "3     8\n",
            "4    10\n",
            "dtype: int64\n",
            "\n",
            "Items of sr1 not present in sr2:\n",
            "0    1\n",
            "2    3\n",
            "4    5\n",
            "dtype: int64\n"
          ],
          "name": "stdout"
        }
      ]
    },
    {
      "cell_type": "markdown",
      "metadata": {
        "id": "4FKMHRvWFeti",
        "colab_type": "text"
      },
      "source": [
        "####Question 4:\n",
        "[Filter Words with Multiple Vowels] \n",
        "Write a Pandas program to filter words from a given series that contain at least two vowels. \n",
        "Sample Output:\n",
        "Original Series:\n",
        "0 Red\n",
        "1 Green\n",
        "2 Orange\n",
        "3 Pink\n",
        "4 Yellow\n",
        "5 White\n",
        "dtype: object\n",
        "\n",
        "Filtered words:\n",
        "1 Green\n",
        "2 Orange\n",
        "4 Yellow\n",
        "5 White\n",
        "dtype: object\n"
      ]
    },
    {
      "cell_type": "code",
      "metadata": {
        "id": "EB0e9TXeFhDA",
        "colab_type": "code",
        "colab": {
          "base_uri": "https://localhost:8080/",
          "height": 272
        },
        "outputId": "b4f21532-f32e-4fde-f673-abe70f375312"
      },
      "source": [
        "import pandas as pd\n",
        "from collections import Counter\n",
        "color_series = pd.Series(['Red', 'Green', 'Orange', 'Pink', 'Yellow', 'White'])\n",
        "print(\"Original Series:\")\n",
        "print(color_series)\n",
        "print(\"\\nFiltered words:\")\n",
        "result = mask = color_series.map(lambda c: sum([Counter(c.lower()).get(i, 0) for i in list('aeiou')]) >= 2)\n",
        "print(color_series[result])"
      ],
      "execution_count": 6,
      "outputs": [
        {
          "output_type": "stream",
          "text": [
            "Original Series:\n",
            "0       Red\n",
            "1     Green\n",
            "2    Orange\n",
            "3      Pink\n",
            "4    Yellow\n",
            "5     White\n",
            "dtype: object\n",
            "\n",
            "Filtered words:\n",
            "1     Green\n",
            "2    Orange\n",
            "4    Yellow\n",
            "5     White\n",
            "dtype: object\n"
          ],
          "name": "stdout"
        }
      ]
    },
    {
      "cell_type": "markdown",
      "metadata": {
        "id": "B1185-8nFiQH",
        "colab_type": "text"
      },
      "source": [
        "####Question 5:\n",
        "Consider the following as my DataFrame,Write a Pandas program to select the rows where the number of attempts in the examination is greater than 2.\n",
        "\n"
      ]
    },
    {
      "cell_type": "code",
      "metadata": {
        "id": "zmtN7ixzq-4F",
        "colab_type": "code",
        "colab": {
          "base_uri": "https://localhost:8080/",
          "height": 102
        },
        "outputId": "a34b568b-882f-44d3-b3fc-acbeae920859"
      },
      "source": [
        "import pandas as pd\n",
        "import numpy as np\n",
        "exam_data  = {'name': ['Anastasia', 'Dima', 'Katherine', 'James', 'Emily', 'Michael', 'Matthew', 'Laura', 'Kevin', 'Jonas'],\n",
        "        'score': [12.5, 9, 16.5, np.nan, 9, 20, 14.5, np.nan, 8, 19],\n",
        "        'attempts': [1, 3, 2, 3, 2, 3, 1, 1, 2, 1],\n",
        "        'qualify': ['yes', 'no', 'yes', 'no', 'no', 'yes', 'yes', 'no', 'no', 'yes']}\n",
        "labels = ['a', 'b', 'c', 'd', 'e', 'f', 'g', 'h', 'i', 'j']\n",
        "df = pd.DataFrame(exam_data , index=labels)\n",
        "print(\"Number of attempts in the examination is greater than 2 :\")\n",
        "print(df[(df['attempts'] >2)])\n"
      ],
      "execution_count": 16,
      "outputs": [
        {
          "output_type": "stream",
          "text": [
            "Number of attempts in the examination is greater than 2 :\n",
            "      name  score  attempts qualify\n",
            "b     Dima    9.0         3      no\n",
            "d    James    NaN         3      no\n",
            "f  Michael   20.0         3     yes\n"
          ],
          "name": "stdout"
        }
      ]
    },
    {
      "cell_type": "code",
      "metadata": {
        "id": "Wz-t9S1bsZFC",
        "colab_type": "code",
        "colab": {}
      },
      "source": [
        ""
      ],
      "execution_count": 0,
      "outputs": []
    }
  ]
}