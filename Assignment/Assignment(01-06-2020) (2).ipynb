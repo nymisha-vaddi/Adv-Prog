{
 "cells": [
  {
   "cell_type": "markdown",
   "metadata": {},
   "source": [
    "### CSE - 221710307060 - Nymisha"
   ]
  },
  {
   "cell_type": "markdown",
   "metadata": {},
   "source": [
    "### Password Picker"
   ]
  },
  {
   "cell_type": "code",
   "execution_count": 5,
   "metadata": {},
   "outputs": [
    {
     "name": "stdout",
     "output_type": "stream",
     "text": [
      "Darkbook72%\n",
      "Do you want another password? Yes\n",
      "Blackradio34_\n",
      "Do you want another password? No\n"
     ]
    }
   ],
   "source": [
    "import random\n",
    "import string\n",
    "adjectives_list = [\"Dark\",\"Beautiful\",\"Colorful\",\"Black\",\"Calm\",\"Clever\",\"Precious\",\"Gifted\",\"Lively\",\"Elegant\"]\n",
    "nouns_list = [\"dragon\",\"dinosaur\",\"puppy\",\"mountain\",\"ocean\",\"valley\",\"snake\",\"rain\",\"book\",\"radio\"]\n",
    "while(True):\n",
    "    adjective = random.choice(adjectives_list)\n",
    "    noun = random.choice(nouns_list)\n",
    "    number = str(random.randint(0,100))\n",
    "    character = str(random.choice(string.punctuation))\n",
    "    print(adjective+noun+number+character)\n",
    "    x = input(\"Do you want another password? \")\n",
    "    if(x == \"Yes\"):\n",
    "        continue\n",
    "    elif(x == \"No\"):\n",
    "        break"
   ]
  },
  {
   "cell_type": "code",
   "execution_count": null,
   "metadata": {},
   "outputs": [],
   "source": []
  }
 ],
 "metadata": {
  "kernelspec": {
   "display_name": "Python 3",
   "language": "python",
   "name": "python3"
  },
  "language_info": {
   "codemirror_mode": {
    "name": "ipython",
    "version": 3
   },
   "file_extension": ".py",
   "mimetype": "text/x-python",
   "name": "python",
   "nbconvert_exporter": "python",
   "pygments_lexer": "ipython3",
   "version": "3.7.6"
  }
 },
 "nbformat": 4,
 "nbformat_minor": 4
}
