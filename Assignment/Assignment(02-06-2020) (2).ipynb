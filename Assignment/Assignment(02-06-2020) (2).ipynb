{
 "cells": [
  {
   "cell_type": "markdown",
   "metadata": {},
   "source": [
    "### CSE - 221710307060 - Nymisha"
   ]
  },
  {
   "cell_type": "markdown",
   "metadata": {},
   "source": [
    "### Nine Lives"
   ]
  },
  {
   "cell_type": "code",
   "execution_count": 8,
   "metadata": {},
   "outputs": [
    {
     "name": "stdout",
     "output_type": "stream",
     "text": [
      "\n",
      " Guess a letter or the whole word : a\n",
      "['?', 'a', '?', '?', '?']\n",
      "Lives left: 9\n",
      "\n",
      " Guess a letter or the whole word : f\n",
      "Incorrect. You lose a life\n",
      "\n",
      "lives remaining :  8\n",
      "\n",
      " Guess a letter or the whole word : m\n",
      "Incorrect. You lose a life\n",
      "\n",
      "lives remaining :  7\n",
      "\n",
      " Guess a letter or the whole word : r\n",
      "['r', 'a', '?', '?', '?']\n",
      "Lives left: 7\n",
      "\n",
      " Guess a letter or the whole word : radio\n",
      "You won! The secret word was  radio\n"
     ]
    }
   ],
   "source": [
    "import random\n",
    "lives = 9\n",
    "words_list = [\"dream\",\"magic\",\"faith\",\"ocean\",\"radio\",\"sugar\",\"heart\",\"world\",\"angel\",\"peace\"]\n",
    "listq = [\"?\",\"?\",\"?\",\"?\",\"?\"]\n",
    "secret_word=random.choice(words_list)\n",
    "space = 5\n",
    "while lives > 0:\n",
    "    \n",
    "    s = space\n",
    "    guess = input(\"\\n Guess a letter or the whole word : \")\n",
    "    if len(guess)==len(secret_word):\n",
    "        if guess==secret_word:\n",
    "            print(\"You won! The secret word was \",guess)\n",
    "            break\n",
    "    else:\n",
    "        for i in secret_word:\n",
    "            if guess==i:\n",
    "                listq[secret_word.index(i)]=guess\n",
    "                print(listq)\n",
    "                print(\"Lives left:\",lives)\n",
    "                for j in range(lives):\n",
    "                    space -= 1\n",
    "                break\n",
    "    if s == space:\n",
    "        print(\"Incorrect. You lose a life\")\n",
    "        lives -= 1\n",
    "        print(\"\\nlives remaining : \",lives)\n",
    "        \n",
    "    if (''.join(listq)==secret_word):\n",
    "        print(\"\\n You won! The secret word was \",secret_word)\n",
    "        space -= 1\n",
    "        break"
   ]
  },
  {
   "cell_type": "markdown",
   "metadata": {},
   "source": []
  }
 ],
 "metadata": {
  "language_info": {
   "codemirror_mode": {
    "name": "ipython",
    "version": 3
   },
   "file_extension": ".py",
   "mimetype": "text/x-python",
   "name": "python",
   "nbconvert_exporter": "python",
   "pygments_lexer": "ipython3",
   "version": "3.7.6"
  }
 },
 "nbformat": 4,
 "nbformat_minor": 4
}
