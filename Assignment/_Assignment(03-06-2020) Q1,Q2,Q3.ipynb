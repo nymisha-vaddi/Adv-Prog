{
 "cells": [
  {
   "cell_type": "markdown",
   "metadata": {},
   "source": [
    "## CSE - 221710307060 - Nymisha"
   ]
  },
  {
   "cell_type": "markdown",
   "metadata": {},
   "source": [
    "#### Question 1: [Reverse] Copy the contents of a text file into another, printing the reversed version of each input line\n"
   ]
  },
  {
   "cell_type": "code",
   "execution_count": 7,
   "metadata": {},
   "outputs": [],
   "source": [
    "with open(\"sample.txt\",\"r\") as f:\n",
    "    with open(\"copy.txt\",\"w\") as f1: \n",
    "        for line in f:\n",
    "            f1.write(line)"
   ]
  },
  {
   "cell_type": "code",
   "execution_count": 9,
   "metadata": {},
   "outputs": [
    {
     "name": "stdout",
     "output_type": "stream",
     "text": [
      "\n",
      "!enoyreve olleH\n",
      "\n",
      "?gniod lla uoy era woH\n",
      ".gnimmargorp nohtyp ot emocleW\n"
     ]
    }
   ],
   "source": [
    "with open(\"copy.txt\",\"r\") as f1:\n",
    "        for line in f1:                    \n",
    "            print(line[::-1])"
   ]
  },
  {
   "cell_type": "markdown",
   "metadata": {},
   "source": [
    "#### Question 2: [Number Lines] \n",
    "Print the contents of a file line by line putting a line number for each line.\n"
   ]
  },
  {
   "cell_type": "code",
   "execution_count": 10,
   "metadata": {},
   "outputs": [
    {
     "name": "stdout",
     "output_type": "stream",
     "text": [
      "1 .  Hello everyone!\n",
      "\n",
      "2 .  How are you all doing?\n",
      "\n",
      "3 .  Welcome to python programming.\n"
     ]
    }
   ],
   "source": [
    "with open(\"sample.txt\",\"r\") as f:\n",
    "    i=1\n",
    "    for line in f:\n",
    "        print(i,\". \",line)\n",
    "        i+=1"
   ]
  },
  {
   "cell_type": "markdown",
   "metadata": {},
   "source": [
    "#### Question 3: [deDuplicate] Avoiding Duplicates\n",
    "In many situations, lists should not contain duplicate elements. For example, a pack of cards should not contain the same card twice. Define a function\n",
    "duplicates (list): bool\n",
    "which returns True if its argument contains duplicate elements.\n",
    "\t\tduplicates [1,2,3,4,5]\n",
    "\t\t\tFalse\n",
    "\t\tduplicates [1,2,3,2]\n",
    "\t\t\tTrue\n",
    "Hint: the standard operation in, which tests whether an element occurs in a list, is helpful here.\n",
    "\n",
    "One way to ensure a list contains no duplicates is to start with a list that might contain duplicate elements, and remove them. Define a function\n",
    "    removeDuplicates (list): list\n",
    "which returns a list containing the same elements as its argument, but without duplicates.\n"
   ]
  },
  {
   "cell_type": "code",
   "execution_count": 5,
   "metadata": {},
   "outputs": [
    {
     "name": "stdout",
     "output_type": "stream",
     "text": [
      "[1, 2, 3, 4, 5, 6]\n"
     ]
    }
   ],
   "source": [
    "def duplicate(list1):\n",
    "    if len(list1) != len(set(list1)):\n",
    "        return True\n",
    "    else:\n",
    "        return False\n",
    "def removeDuplicates(list1):\n",
    "    list2 = []\n",
    "    for num in list1:\n",
    "        if num not in list2:\n",
    "            list2.append(num)\n",
    "    return list2\n",
    "list1 = [1,2,3,3,2,4,5,4,6]\n",
    "if(duplicate(list1)):\n",
    "    print(removeDuplicates(list1))\n",
    "else:\n",
    "    print(list1)"
   ]
  },
  {
   "cell_type": "code",
   "execution_count": null,
   "metadata": {},
   "outputs": [],
   "source": []
  }
 ],
 "metadata": {
  "kernelspec": {
   "display_name": "Python 3",
   "language": "python",
   "name": "python3"
  },
  "language_info": {
   "codemirror_mode": {
    "name": "ipython",
    "version": 3
   },
   "file_extension": ".py",
   "mimetype": "text/x-python",
   "name": "python",
   "nbconvert_exporter": "python",
   "pygments_lexer": "ipython3",
   "version": "3.7.6"
  }
 },
 "nbformat": 4,
 "nbformat_minor": 4
}
