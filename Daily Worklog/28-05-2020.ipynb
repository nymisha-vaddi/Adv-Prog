{
 "cells": [
  {
   "cell_type": "code",
   "execution_count": 1,
   "metadata": {},
   "outputs": [
    {
     "name": "stdout",
     "output_type": "stream",
     "text": [
      "enter a string:hello\n",
      "<class 'str'> <class 'str'>\n"
     ]
    }
   ],
   "source": [
    "s1 = input(\"enter a string:\")\n",
    "s2 = 'Good Afternnon'\n",
    "print(type(s1),type(s2))"
   ]
  },
  {
   "cell_type": "code",
   "execution_count": 4,
   "metadata": {},
   "outputs": [
    {
     "name": "stdout",
     "output_type": "stream",
     "text": [
      "helloGood Afternnon\n",
      "hellohellohello\n",
      "o\n",
      "o\n",
      "llo\n"
     ]
    }
   ],
   "source": [
    "#operators : +,*(repitation),[](slice)\n",
    "print(s1 + s2) #Concatenation\n",
    "print(s1 * 3) #Repitation\n",
    "print(s1[4])#slicing\n",
    "print(s1[-1])#slicing\n",
    "print(s1[2:])#start=0,stop=length of string,step=1"
   ]
  },
  {
   "cell_type": "code",
   "execution_count": 5,
   "metadata": {},
   "outputs": [
    {
     "name": "stdout",
     "output_type": "stream",
     "text": [
      "hlo\n"
     ]
    }
   ],
   "source": [
    "#print alternate characters\n",
    "print(s1[::2])"
   ]
  },
  {
   "cell_type": "code",
   "execution_count": 7,
   "metadata": {},
   "outputs": [
    {
     "name": "stdout",
     "output_type": "stream",
     "text": [
      "enter a string: madam\n",
      "The given string is palindrome\n"
     ]
    }
   ],
   "source": [
    "#accept string from user and if it is palindrome or not\n",
    "s3= input(\"enter a string: \")\n",
    "if s3 == s3[::-1]:\n",
    "    print(\"The given string is palindrome\")\n",
    "else:\n",
    "    print(\"The given string is not palindrome\")"
   ]
  },
  {
   "cell_type": "code",
   "execution_count": 8,
   "metadata": {},
   "outputs": [
    {
     "name": "stdout",
     "output_type": "stream",
     "text": [
      "enter a numbber121\n",
      "The given string is palindrome\n"
     ]
    }
   ],
   "source": [
    "n = int(input(\"enter a numbber\"))\n",
    "if str(n) == str(n)[::-1]:\n",
    "     print(\"The given string is palindrome\")\n",
    "else:\n",
    "    print(\"The given string is not palindrome\")"
   ]
  },
  {
   "cell_type": "code",
   "execution_count": 9,
   "metadata": {},
   "outputs": [
    {
     "name": "stdout",
     "output_type": "stream",
     "text": [
      "True\n",
      "False\n",
      "False\n",
      "True\n"
     ]
    }
   ],
   "source": [
    "s4 = \"python\"\n",
    "print(\"on\" in s4)\n",
    "print(\"xyz\" in s4)\n",
    "print(\"on\" not in s4)#false\n",
    "print(\"xyz\" not in s4)#true"
   ]
  },
  {
   "cell_type": "markdown",
   "metadata": {},
   "source": [
    "### Built-in Functions:\n",
    "1. len() -->length of the string\n",
    "2. max()\n",
    "3. min()\n",
    "4. str() --> converting any datatype to string"
   ]
  },
  {
   "cell_type": "code",
   "execution_count": 11,
   "metadata": {},
   "outputs": [
    {
     "name": "stdout",
     "output_type": "stream",
     "text": [
      "5\n",
      "o\n",
      "e\n",
      "c\n",
      "1\n"
     ]
    }
   ],
   "source": [
    "s = \"hello\"\n",
    "s1 = \"abc123\"\n",
    "print(len(s))\n",
    "print(max(s))\n",
    "print(min(s))\n",
    "print(max(s1))\n",
    "print(min(s1))"
   ]
  },
  {
   "cell_type": "code",
   "execution_count": 12,
   "metadata": {},
   "outputs": [
    {
     "data": {
      "text/plain": [
       "97"
      ]
     },
     "execution_count": 12,
     "metadata": {},
     "output_type": "execute_result"
    }
   ],
   "source": [
    "ord('a') #ascii value of character"
   ]
  },
  {
   "cell_type": "code",
   "execution_count": 15,
   "metadata": {},
   "outputs": [
    {
     "data": {
      "text/plain": [
       "'a'"
      ]
     },
     "execution_count": 15,
     "metadata": {},
     "output_type": "execute_result"
    }
   ],
   "source": [
    "chr(97) #ascii value of number"
   ]
  },
  {
   "cell_type": "markdown",
   "metadata": {},
   "source": [
    "### Built-in Methods:\n",
    "1. capitalize()\n",
    "2. isalpha() --> all charaters should be alphabets\n",
    "3. isdigit() --> all characters should be digits\n",
    "4. isalnum() --> either alphabets or digits\n",
    "5. isupper() \n",
    "6. islower()\n",
    "7. upper()\n",
    "8. lower()\n",
    "9. swapcase()\n",
    "10. count() --> frequency of a substring in the main string\n",
    "11. split() --> return type is list\n",
    "12. replace() --> replaces old character with new character"
   ]
  },
  {
   "cell_type": "code",
   "execution_count": 17,
   "metadata": {},
   "outputs": [
    {
     "name": "stdout",
     "output_type": "stream",
     "text": [
      "5\n",
      "Hello\n"
     ]
    }
   ],
   "source": [
    "s = \"hello\"\n",
    "print(len(s))#function name(object name()\n",
    "s = s.capitalize()#object name.method name()\n",
    "print(s)"
   ]
  },
  {
   "cell_type": "code",
   "execution_count": 19,
   "metadata": {},
   "outputs": [
    {
     "name": "stdout",
     "output_type": "stream",
     "text": [
      "True\n",
      "False\n",
      "True\n",
      "False\n",
      "False\n",
      "True\n",
      "False\n",
      "True\n",
      "True\n"
     ]
    }
   ],
   "source": [
    "s1 = \"hello\"\n",
    "s2 = \"abc123\"\n",
    "s3 = \"123\"\n",
    "print(s1.isalpha())\n",
    "print(s1.isdigit())\n",
    "print(s1.isalnum())\n",
    "print(s2.isalpha())\n",
    "print(s2.isdigit())\n",
    "print(s2.isalnum())\n",
    "print(s3.isalpha())\n",
    "print(s3.isdigit())\n",
    "print(s3.isalnum())"
   ]
  },
  {
   "cell_type": "code",
   "execution_count": 23,
   "metadata": {},
   "outputs": [
    {
     "name": "stdout",
     "output_type": "stream",
     "text": [
      "False\n",
      "True\n",
      "True\n",
      "False\n"
     ]
    }
   ],
   "source": [
    "s1 = \"python\"\n",
    "s2 = \"PYTHON\"\n",
    "print(s1.isupper())\n",
    "print(s2.isupper())\n",
    "print(s1.islower())\n",
    "print(s2.islower())"
   ]
  },
  {
   "cell_type": "code",
   "execution_count": 24,
   "metadata": {},
   "outputs": [
    {
     "name": "stdout",
     "output_type": "stream",
     "text": [
      "PYTHON\n",
      "python\n",
      "PYTHON\n",
      "python\n"
     ]
    }
   ],
   "source": [
    "print(s1.upper())\n",
    "print(s2.lower())\n",
    "print(s1.swapcase())\n",
    "print(s2.swapcase())"
   ]
  },
  {
   "cell_type": "code",
   "execution_count": 25,
   "metadata": {},
   "outputs": [
    {
     "name": "stdout",
     "output_type": "stream",
     "text": [
      "pyTHon\n"
     ]
    }
   ],
   "source": [
    "s = \"PYthON\"\n",
    "print(s.swapcase())"
   ]
  },
  {
   "cell_type": "code",
   "execution_count": 27,
   "metadata": {},
   "outputs": [
    {
     "data": {
      "text/plain": [
       "3"
      ]
     },
     "execution_count": 27,
     "metadata": {},
     "output_type": "execute_result"
    }
   ],
   "source": [
    "s = \"abc abc abc\"\n",
    "s.count(\"abc\")"
   ]
  },
  {
   "cell_type": "code",
   "execution_count": 29,
   "metadata": {},
   "outputs": [
    {
     "name": "stdout",
     "output_type": "stream",
     "text": [
      "['abc', 'abc', 'abc']\n",
      "['a', 'b', 'c', 'd']\n"
     ]
    }
   ],
   "source": [
    "print(s.split())\n",
    "s1 = \"a,b,c,d\"\n",
    "print(s1.split(\",\"))"
   ]
  },
  {
   "cell_type": "code",
   "execution_count": 32,
   "metadata": {},
   "outputs": [
    {
     "name": "stdout",
     "output_type": "stream",
     "text": [
      "azc\n"
     ]
    }
   ],
   "source": [
    "s = \"abc\"#azc\n",
    "s = s.replace('b','z')\n",
    "print(s)"
   ]
  },
  {
   "cell_type": "code",
   "execution_count": 35,
   "metadata": {},
   "outputs": [
    {
     "name": "stdout",
     "output_type": "stream",
     "text": [
      "Enter the value of n3\n",
      "Enter a stringabcabc\n",
      "ababc\n"
     ]
    }
   ],
   "source": [
    "# accept a number(n) from the user and remove nth position character from the string\n",
    "\n",
    "# n = 3\n",
    "# s = abcabc\n",
    "#output = ababc\n",
    "\n",
    "n = int(input(\"Enter the value of n\"))\n",
    "s = input(\"Enter a string\")\n",
    "s = s.replace(s[n-1],\"\",1)\n",
    "print(s)"
   ]
  },
  {
   "cell_type": "markdown",
   "metadata": {},
   "source": [
    "### for loop:\n",
    "1. for loop with range() function\n",
    "2. for loop with iterable object"
   ]
  },
  {
   "cell_type": "markdown",
   "metadata": {},
   "source": [
    "```for variable_name in range(start,stop,step):\n",
    "    statments```"
   ]
  },
  {
   "cell_type": "code",
   "execution_count": 38,
   "metadata": {},
   "outputs": [
    {
     "name": "stdout",
     "output_type": "stream",
     "text": [
      "1 2 3 4 5 6 7 8 9 10 \n",
      "1 2 3 4 5 6 7 8 9 10 "
     ]
    }
   ],
   "source": [
    "#print 1-n numbers on the screen\n",
    "n = 10\n",
    "for i in range(1,n+1):\n",
    "    print(i,end=\" \")\n",
    "\n",
    "print()\n",
    "\n",
    "i = 1\n",
    "while i<=n:\n",
    "    print(i,end=\" \")\n",
    "    i += 1"
   ]
  },
  {
   "cell_type": "markdown",
   "metadata": {},
   "source": [
    "```for variable in iterable obj:\n",
    "    statements```"
   ]
  },
  {
   "cell_type": "code",
   "execution_count": 45,
   "metadata": {},
   "outputs": [
    {
     "name": "stdout",
     "output_type": "stream",
     "text": [
      "p\n",
      "y\n",
      "t\n",
      "h\n",
      "o\n",
      "n\n",
      "\n",
      "p\n",
      "y\n",
      "t\n",
      "h\n",
      "o\n",
      "n\n",
      "\n",
      "p\n",
      "y\n",
      "t\n",
      "h\n",
      "o\n",
      "n\n"
     ]
    }
   ],
   "source": [
    "s = \"python\"\n",
    "for i in s:\n",
    "    print(i)\n",
    "\n",
    "#using while loop print all the characters of your string vertically\n",
    "print()\n",
    "i=0\n",
    "while(i<len(s)):\n",
    "    print(s[i])\n",
    "    i += 1\n",
    "    \n",
    "# using for loop but you should not use iterable object\n",
    "print()\n",
    "for i in range(0,len(s)):\n",
    "    print(s[i])"
   ]
  },
  {
   "cell_type": "markdown",
   "metadata": {},
   "source": []
  }
 ],
 "metadata": {
  "kernelspec": {
   "display_name": "Python 3",
   "language": "python",
   "name": "python3"
  },
  "language_info": {
   "codemirror_mode": {
    "name": "ipython",
    "version": 3
   },
   "file_extension": ".py",
   "mimetype": "text/x-python",
   "name": "python",
   "nbconvert_exporter": "python",
   "pygments_lexer": "ipython3",
   "version": "3.7.6"
  }
 },
 "nbformat": 4,
 "nbformat_minor": 4
}
